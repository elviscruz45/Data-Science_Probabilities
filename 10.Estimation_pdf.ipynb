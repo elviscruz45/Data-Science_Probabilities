{
 "cells": [
  {
   "cell_type": "code",
   "execution_count": 2,
   "metadata": {},
   "outputs": [],
   "source": [
    "import numpy as np\n",
    "import matplotlib.pyplot as plt\n",
    "from numpy.random import normal\n",
    "from scipy.stats import norm"
   ]
  },
  {
   "cell_type": "code",
   "execution_count": 5,
   "metadata": {},
   "outputs": [
    {
     "data": {
      "text/plain": [
       "array([-0.43454662,  0.67179801, -0.54161114,  1.83689805,  0.1575986 ,\n",
       "        0.03633279, -0.32039472, -1.57071305,  0.27121222,  0.98016738,\n",
       "        0.42171743,  0.07059174,  2.08769553,  0.65684705,  0.05503586,\n",
       "        0.29182728,  0.74566261,  0.84009291,  0.75811767, -0.98928106,\n",
       "       -0.37353247,  0.74974061, -0.77082106, -0.11254124, -1.66585432,\n",
       "        1.13882904,  1.56231835, -0.49193489,  0.33729566, -0.49548606,\n",
       "       -0.24566635,  0.54338451,  0.41435169,  0.66511641,  0.17551315,\n",
       "        0.84957623,  1.42995126, -0.20849693,  0.58001493,  1.82899764,\n",
       "        0.17233309, -1.66823239, -0.44028029, -0.6951141 , -0.97721316,\n",
       "       -2.02499785, -1.39661533, -0.03291456,  0.4447651 ,  0.04598177,\n",
       "        0.8001033 , -0.36688333, -1.36045524,  1.81931023, -0.62364435,\n",
       "       -1.02033703,  0.13932114,  0.70730688, -0.21722546,  0.56162108,\n",
       "        0.0684148 ,  1.45193824,  2.49579676,  0.62626963, -0.22086744,\n",
       "        0.3593985 ,  0.91886231,  0.76690672, -0.67337559,  0.98499515,\n",
       "        0.9256348 , -1.23824799,  0.93406088, -1.72490666,  1.69912131,\n",
       "        0.42973293,  1.65627173,  0.10331269, -0.64122505, -1.48717373,\n",
       "        0.85300867, -1.04218283,  0.51231367, -0.18113739,  1.00630781,\n",
       "        0.24788096,  0.21087423, -1.34643474,  1.1079023 , -0.40427525,\n",
       "        1.27197015, -0.46807535, -1.65380077, -0.92578379,  0.71110263,\n",
       "       -0.25963077,  0.66530665, -0.92333204, -0.35734854,  0.07356723])"
      ]
     },
     "execution_count": 5,
     "metadata": {},
     "output_type": "execute_result"
    }
   ],
   "source": [
    "sample=normal(size=100)\n",
    "sample\n"
   ]
  },
  {
   "cell_type": "code",
   "execution_count": 8,
   "metadata": {},
   "outputs": [
    {
     "data": {
      "image/png": "[encoded data removed]",
      "text/plain": [
       "<Figure size 432x288 with 1 Axes>"
      ]
     },
     "metadata": {
      "needs_background": "light"
     },
     "output_type": "display_data"
    }
   ],
   "source": [
    "plt.hist(sample,bins=30)\n",
    "plt.show()"
   ]
  },
  {
   "cell_type": "markdown",
   "metadata": {},
   "source": [
    "### Estimacion Parametrica"
   ]
  },
  {
   "cell_type": "code",
   "execution_count": 25,
   "metadata": {},
   "outputs": [
    {
     "data": {
      "text/plain": [
       "50.00728789806356"
      ]
     },
     "execution_count": 25,
     "metadata": {},
     "output_type": "execute_result"
    }
   ],
   "source": [
    "sample=normal(loc=50,scale=5,size=1000) #mu=50 sigma=5\n",
    "mu=sample.mean()\n",
    "mu"
   ]
  },
  {
   "cell_type": "code",
   "execution_count": 26,
   "metadata": {},
   "outputs": [
    {
     "data": {
      "text/plain": [
       "5.019400079085288"
      ]
     },
     "execution_count": 26,
     "metadata": {},
     "output_type": "execute_result"
    }
   ],
   "source": [
    "sigma=sample.std()\n",
    "sigma"
   ]
  },
  {
   "cell_type": "code",
   "execution_count": 27,
   "metadata": {},
   "outputs": [
    {
     "data": {
      "image/png": "[encoded data removed]",
      "text/plain": [
       "<Figure size 432x288 with 1 Axes>"
      ]
     },
     "metadata": {
      "needs_background": "light"
     },
     "output_type": "display_data"
    }
   ],
   "source": [
    "dist=norm(mu,sigma)\n",
    "values=[value for value in range(30,70)]\n",
    "probabilidades=[dist.pdf(value) for value in values]\n",
    "plt.hist(sample,bins=30,density=True)\n",
    "plt.plot(values,probabilidades)\n",
    "plt.show()"
   ]
  },
  {
   "cell_type": "markdown",
   "metadata": {},
   "source": [
    "# Estimación no paramétrica\n",
    "\n",
    "`Kernel Density estimation` \n",
    "* [parámetro de suavizado]: smoothing parameter \n",
    "* [función base]: basis function\n",
    "\n",
    "https://scikit-learn.org/stable/modules/density.html"
   ]
  },
  {
   "cell_type": "code",
   "execution_count": 3,
   "metadata": {},
   "outputs": [
    {
     "data": {
      "image/png": "[encoded data removed]",
      "text/plain": [
       "<Figure size 432x288 with 1 Axes>"
      ]
     },
     "metadata": {
      "needs_background": "light"
     },
     "output_type": "display_data"
    }
   ],
   "source": [
    "from numpy import hstack\n",
    "from sklearn.neighbors import KernelDensity\n",
    "\n",
    "#construimos una distribución bimodal\n",
    "sample1 = normal(loc=20, scale=5, size=300)\n",
    "sample2 = normal(loc=40, scale=5, size=700)\n",
    "sample = hstack((sample1, sample2))\n",
    "\n",
    "model = KernelDensity(bandwidth=2, kernel='gaussian')\n",
    "sample = sample.reshape((len(sample), 1))\n",
    "model.fit(sample)\n",
    "\n",
    "values = np.asarray([value for value in range(1, 60)])\n",
    "values = values.reshape((len(values), 1))\n",
    "probabilities = model.score_samples(values) #probabilidad logarítmica\n",
    "probabilities = np.exp(probabilities)  # inversión de probabilidad\n",
    "\n",
    "plt.hist(sample, bins=50, density=True) \n",
    "plt.plot(values[:], probabilities)\n",
    "plt.show()"
   ]
  }
 ],
 "metadata": {
  "kernelspec": {
   "display_name": "Python 3.8.8 ('base')",
   "language": "python",
   "name": "python3"
  },
  "language_info": {
   "codemirror_mode": {
    "name": "ipython",
    "version": 3
   },
   "file_extension": ".py",
   "mimetype": "text/x-python",
   "name": "python",
   "nbconvert_exporter": "python",
   "pygments_lexer": "ipython3",
   "version": "3.8.8"
  },
  "orig_nbformat": 4,
  "vscode": {
   "interpreter": {
    "hash": "40d3a090f54c6569ab1632332b64b2c03c39dcf918b08424e98f38b5ae0af88f"
   }
  }
 },
 "nbformat": 4,
 "nbformat_minor": 2
}
